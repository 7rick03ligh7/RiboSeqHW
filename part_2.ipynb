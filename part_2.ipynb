{
 "cells": [
  {
   "cell_type": "code",
   "execution_count": 1,
   "metadata": {},
   "outputs": [],
   "source": [
    "import numpy as np\n",
    "from BCBio import GFF\n",
    "import matplotlib.pyplot as plt\n",
    "\n",
    "%matplotlib inline"
   ]
  },
  {
   "cell_type": "markdown",
   "metadata": {},
   "source": [
    "#### Подготовка данных"
   ]
  },
  {
   "cell_type": "code",
   "execution_count": 2,
   "metadata": {},
   "outputs": [],
   "source": [
    "def wig_parser(file, gsize):\n",
    "    counts = np.zeros(gsize)\n",
    "    with open(file, 'r') as file:\n",
    "        file.readline()\n",
    "        for line in file:\n",
    "            data = line.split()\n",
    "            position, count = int(data[0]), int(data[1])\n",
    "            position = position - 2\n",
    "            counts[position] = count\n",
    "        return counts\n",
    "    \n",
    "forward = wig_parser('02. RiboSeq_EColi_track_f.wig', 4641668)\n",
    "backward = wig_parser('02. RiboSeq_EColi_track_r.wig', 4641668)"
   ]
  },
  {
   "cell_type": "code",
   "execution_count": 3,
   "metadata": {},
   "outputs": [],
   "source": [
    "genbank_filename = \"sequence.gff3\"\n",
    "with open(genbank_filename) as f:\n",
    "    records = list(GFF.parse(f, limit_info={'gff_type': ['CDS']}))\n",
    "record = records[0]"
   ]
  },
  {
   "cell_type": "markdown",
   "metadata": {},
   "source": [
    "1. Присутствует ли в покрытии генома неравномерность? Рассмотрите неравномерность покрытия на примере любого выбранного вами гена. Что вы можете сказать про эту неравномерность? Присутствует ли там периодичность в три нуклеотида? А если взять среднее по большому количеству генов (взяв за точку отсчёта старт-кодон)? Выводы проиллюстрируйте графиками."
   ]
  },
  {
   "cell_type": "code",
   "execution_count": 4,
   "metadata": {},
   "outputs": [
    {
     "name": "stdout",
     "output_type": "stream",
     "text": [
      "4270\n"
     ]
    }
   ],
   "source": [
    "features = []\n",
    "for feature in record.features:\n",
    "    if feature.type == 'CDS':\n",
    "        features.append(feature)\n",
    "print(len(features))"
   ]
  },
  {
   "cell_type": "markdown",
   "metadata": {},
   "source": [
    "#### Для одного гена"
   ]
  },
  {
   "cell_type": "code",
   "execution_count": 5,
   "metadata": {},
   "outputs": [
    {
     "data": {
      "text/plain": [
       "SeqFeature(FeatureLocation(ExactPosition(189), ExactPosition(255), strand=1), type='CDS', id='cds-AAC73112.1')"
      ]
     },
     "execution_count": 5,
     "metadata": {},
     "output_type": "execute_result"
    }
   ],
   "source": [
    "feature = features[0]\n",
    "feature"
   ]
  },
  {
   "cell_type": "code",
   "execution_count": 6,
   "metadata": {},
   "outputs": [],
   "source": [
    "coverage = 100\n",
    "pos_counts = np.zeros(coverage)\n",
    "start, end = feature.location.start, feature.location.end\n",
    "pos_counts += forward[start:start+coverage]\n",
    "pos_counts = np.log(pos_counts+1)"
   ]
  },
  {
   "cell_type": "code",
   "execution_count": 7,
   "metadata": {},
   "outputs": [
    {
     "data": {
      "text/plain": [
       "<BarContainer object of 100 artists>"
      ]
     },
     "execution_count": 7,
     "metadata": {},
     "output_type": "execute_result"
    },
    {
     "data": {
      "image/png": "[encoded data removed]",
      "text/plain": [
       "<Figure size 720x720 with 3 Axes>"
      ]
     },
     "metadata": {
      "needs_background": "light"
     },
     "output_type": "display_data"
    }
   ],
   "source": [
    "fig,ax = plt.subplots(nrows=3, ncols=1, figsize=(10,10))\n",
    "x = np.arange(len(pos_counts))\n",
    "\n",
    "color = ['blue' if pos%3==2 else 'red' for pos in x]\n",
    "ax[0].bar(x, pos_counts, color=color)\n",
    "\n",
    "color = ['blue' if pos%3==1 else 'red' for pos in x]\n",
    "ax[1].bar(x, pos_counts, color=color)\n",
    "\n",
    "color = ['blue' if pos%3==0 else 'red' for pos in x]\n",
    "ax[2].bar(x, pos_counts, color=color)"
   ]
  },
  {
   "cell_type": "markdown",
   "metadata": {},
   "source": [
    "#### Вывод: по одному гену не очень видна периодичность (ВАЖНО: данные прологарифмированы)"
   ]
  },
  {
   "cell_type": "markdown",
   "metadata": {},
   "source": [
    "#### Для нескольких генов"
   ]
  },
  {
   "cell_type": "code",
   "execution_count": 9,
   "metadata": {},
   "outputs": [],
   "source": [
    "coverage = 100\n",
    "pos_counts = np.zeros(coverage)\n",
    "\n",
    "for feature in features:\n",
    "    start, end = feature.location.start, feature.location.end\n",
    "    if (end-start) % 3 != 0:\n",
    "        continue\n",
    "    if feature.location.strand == 1:\n",
    "        pos_counts += forward[start:start+coverage]\n",
    "    else:\n",
    "        pos_counts += backward[start:start+coverage]\n",
    "pos_counts = np.log(pos_counts)"
   ]
  },
  {
   "cell_type": "code",
   "execution_count": 10,
   "metadata": {},
   "outputs": [
    {
     "data": {
      "text/plain": [
       "<BarContainer object of 100 artists>"
      ]
     },
     "execution_count": 10,
     "metadata": {},
     "output_type": "execute_result"
    },
    {
     "data": {
      "image/png": "[encoded data removed]",
      "text/plain": [
       "<Figure size 720x720 with 3 Axes>"
      ]
     },
     "metadata": {
      "needs_background": "light"
     },
     "output_type": "display_data"
    }
   ],
   "source": [
    "fig,ax = plt.subplots(nrows=3, ncols=1, figsize=(10,10))\n",
    "x = np.arange(len(pos_counts))\n",
    "\n",
    "color = ['blue' if pos%3==2 else 'red' for pos in x]\n",
    "ax[0].bar(x, pos_counts, color=color)\n",
    "\n",
    "color = ['blue' if pos%3==1 else 'red' for pos in x]\n",
    "ax[1].bar(x, pos_counts, color=color)\n",
    "\n",
    "color = ['blue' if pos%3==0 else 'red' for pos in x]\n",
    "ax[2].bar(x, pos_counts, color=color)"
   ]
  },
  {
   "cell_type": "markdown",
   "metadata": {},
   "source": [
    "#### ВАЖНО: данные прологарифмированы\n",
    "#### Вывод: Здесь, на второй картинке видна некоторая периодичность в 3 нуклеотида."
   ]
  },
  {
   "cell_type": "markdown",
   "metadata": {},
   "source": [
    "2. Рассчитайте значения RPKM и TPM для каждого гена. В чём разница между RPKM и TPM? Для чего используется каждая метрика?"
   ]
  },
  {
   "cell_type": "markdown",
   "metadata": {},
   "source": [
    "#### Данные метрики пытаются нормализовать экспрессиипо глубине секвенированя и длине гена"
   ]
  },
  {
   "cell_type": "markdown",
   "metadata": {},
   "source": [
    "#### Отличие RPKM от TPM в том, что RPKM в начале нормирует на глубину прочтения, а потом на длину. TPM же делает в точности до наоборот. Из-за порядка нормировок TPM позволяет сравнивать различные образцы, так как сумма нормированных TPM в каждом образце одинаковая (из-за того, что последняя нормировка была на глубину прочтения в каждом образце)"
   ]
  },
  {
   "cell_type": "code",
   "execution_count": 14,
   "metadata": {},
   "outputs": [],
   "source": [
    "gene_counts = {}\n",
    "for feature in features:\n",
    "    start, end = feature.location.start, feature.location.end\n",
    "    if feature.location.strand == 1:\n",
    "        gene_counts[feature.id] = forward[start:end].sum()\n",
    "    else:\n",
    "        gene_counts[feature.id] = backward[start:end].sum()"
   ]
  },
  {
   "cell_type": "code",
   "execution_count": 15,
   "metadata": {},
   "outputs": [],
   "source": [
    "RPKM = {}\n",
    "TPM = {}\n",
    "\n",
    "RPKM_depth = sum(gene_counts.values())/1e6\n",
    "TPM_depth = 0\n",
    "for feature in features:\n",
    "    start, end = feature.location.start, feature.location.end\n",
    "    length = end - start \n",
    "    TPM_depth += gene_counts[feature.id]/length\n",
    "TPM_depth /= 1e6\n",
    "    \n",
    "    \n",
    "for feature in features:\n",
    "    RPKM[feature.id] = gene_counts[feature.id] / RPKM_depth / length\n",
    "    TPM[feature.id] = gene_counts[feature.id] / length / TPM_depth"
   ]
  },
  {
   "cell_type": "markdown",
   "metadata": {},
   "source": [
    "3. Проанализируйте значения RPKM для генов из оперона ATP. Укажите геномные координаты оперона, а также то, какие гены в него входят. Есть ли разница между RPKM у различных генов, присутствующих в опероне? Как вы можете объяснить эту разницу с биологической точки зрения? Как вы думаете, можно ли оценить эту разницу при помощи классического RNA-Seq?"
   ]
  },
  {
   "cell_type": "code",
   "execution_count": 16,
   "metadata": {},
   "outputs": [
    {
     "name": "stdout",
     "output_type": "stream",
     "text": [
      "\t\t product \t\t |\t location     | strand  | RPKM\n",
      "----------------------------------------------------------------------------------------------------\n",
      "ATP synthase F1 complex subunit epsilon  | (3915552, 3915972) |    -1   | 0.698\n",
      "ATP synthase F1 complex subunit beta     | (3915992, 3917375) |    -1   | 5.087\n",
      "ATP synthase F1 complex subunit gamma    | (3917401, 3918265) |    -1   | 0.761\n",
      "ATP synthase F1 complex subunit alpha    | (3918315, 3919857) |    -1   | 4.41\n",
      "ATP synthase F1 complex subunit delta    | (3919869, 3920403) |    -1   | 0.564\n",
      "ATP synthase Fo complex subunit b        | (3920417, 3920888) |    -1   | 0.775\n",
      "ATP synthase Fo complex subunit c        | (3920949, 3921189) |    -1   | 4.313\n",
      "ATP synthase Fo complex subunit a        | (3921235, 3922051) |    -1   | 1.381\n",
      "ATP synthase accessory factor AtpI       | (3922059, 3922440) |    -1   | 0.031\n"
     ]
    }
   ],
   "source": [
    "ATP = []\n",
    "for feature in features:\n",
    "    if \"ATP synthase\" in feature.qualifiers[\"product\"][0] and not \" ATP synthase\" in feature.qualifiers[\"product\"][0]:\n",
    "        ATP.append(feature)\n",
    "        \n",
    "print('\\t\\t product \\t\\t |\\t location     | strand  | RPKM')\n",
    "print('-'*100)\n",
    "for feature in ATP:\n",
    "    print(f\"{feature.qualifiers['product'][0]:40} | {int(feature.location.start),int(feature.location.end)} |    {feature.location.strand}   | {np.round(RPKM[feature.id],3)}\")"
   ]
  },
  {
   "cell_type": "markdown",
   "metadata": {},
   "source": [
    "#### Исходя из метрики RPKM, различия есть. Скорее всего RNA-seq выдаст одинаковую экспрессию, так как они расположены в одном опероне"
   ]
  }
 ],
 "metadata": {
  "kernelspec": {
   "display_name": "Python [conda env:pymol]",
   "language": "python",
   "name": "conda-env-pymol-py"
  },
  "language_info": {
   "codemirror_mode": {
    "name": "ipython",
    "version": 3
   },
   "file_extension": ".py",
   "mimetype": "text/x-python",
   "name": "python",
   "nbconvert_exporter": "python",
   "pygments_lexer": "ipython3",
   "version": "3.7.9"
  }
 },
 "nbformat": 4,
 "nbformat_minor": 4
}
